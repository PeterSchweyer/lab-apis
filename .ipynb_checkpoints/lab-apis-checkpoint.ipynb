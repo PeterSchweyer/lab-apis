{
 "cells": [
  {
   "cell_type": "markdown",
   "id": "27422808-8a16-4be1-897f-57b379af8991",
   "metadata": {},
   "source": [
    "# Lab | APIs"
   ]
  },
  {
   "cell_type": "markdown",
   "id": "50f30950-3e31-499a-92ea-1535422c570b",
   "metadata": {},
   "source": [
    "In order to use the `Spotify` API (`SpotiPy`), create an account in `Spotify` and follow [these](https://developer.spotify.com/documentation/general/guides/app-settings/) steps. "
   ]
  },
  {
   "cell_type": "markdown",
   "id": "a0479b95-6ca5-415e-b894-1f5cb17b055b",
   "metadata": {},
   "source": [
    "## Authentication and initializing the API"
   ]
  },
  {
   "cell_type": "markdown",
   "id": "47d71611-c617-4972-a0c3-7090c24b399c",
   "metadata": {},
   "source": [
    "Save your client ID and your client secret in your preferred way, and read it or load it into the following variables:"
   ]
  },
  {
   "cell_type": "code",
   "execution_count": 1,
   "id": "ea44c82a-5c07-4dbc-beb2-bba2601bb75e",
   "metadata": {},
   "outputs": [],
   "source": [
    "import os\n",
    "\n",
    "CLIENT_ID = os.getenv(\"a57ac88dd6464f4ca74b4b0be1748f8c\")\n",
    "CLIENT_SECRET = os.getenv(\"85b8eb013c864562a83420b5c9085d60\")"
   ]
  },
  {
   "cell_type": "code",
   "execution_count": 2,
   "id": "04e12954-fd70-4311-88a5-fb7e2c29799c",
   "metadata": {},
   "outputs": [
    {
     "name": "stdout",
     "output_type": "stream",
     "text": [
      "Requirement already satisfied: spotipy in c:\\anaconda\\lib\\site-packages (2.23.0)\n",
      "Requirement already satisfied: redis>=3.5.3 in c:\\anaconda\\lib\\site-packages (from spotipy) (5.0.1)\n",
      "Requirement already satisfied: requests>=2.25.0 in c:\\anaconda\\lib\\site-packages (from spotipy) (2.31.0)\n",
      "Requirement already satisfied: six>=1.15.0 in c:\\anaconda\\lib\\site-packages (from spotipy) (1.16.0)\n",
      "Requirement already satisfied: urllib3>=1.26.0 in c:\\anaconda\\lib\\site-packages (from spotipy) (1.26.16)\n",
      "Requirement already satisfied: charset-normalizer<4,>=2 in c:\\anaconda\\lib\\site-packages (from requests>=2.25.0->spotipy) (2.0.4)\n",
      "Requirement already satisfied: idna<4,>=2.5 in c:\\anaconda\\lib\\site-packages (from requests>=2.25.0->spotipy) (3.4)\n",
      "Requirement already satisfied: certifi>=2017.4.17 in c:\\anaconda\\lib\\site-packages (from requests>=2.25.0->spotipy) (2023.7.22)\n"
     ]
    }
   ],
   "source": [
    "# If you havent done so, install the spotipy wrapper\n",
    "!pip install spotipy"
   ]
  },
  {
   "cell_type": "markdown",
   "id": "dc0e86da-8846-4207-84c3-cd20b9e01d0e",
   "metadata": {},
   "source": [
    "Once you have done it, we will start initializing the API."
   ]
  },
  {
   "cell_type": "code",
   "execution_count": 3,
   "id": "03034bc6-9858-412a-83b7-18abdc345d7e",
   "metadata": {},
   "outputs": [
    {
     "ename": "SpotifyOauthError",
     "evalue": "No client_id. Pass it or set a SPOTIPY_CLIENT_ID environment variable.",
     "output_type": "error",
     "traceback": [
      "\u001b[1;31m---------------------------------------------------------------------------\u001b[0m",
      "\u001b[1;31mSpotifyOauthError\u001b[0m                         Traceback (most recent call last)",
      "Cell \u001b[1;32mIn[3], line 5\u001b[0m\n\u001b[0;32m      2\u001b[0m \u001b[38;5;28;01mfrom\u001b[39;00m \u001b[38;5;21;01mspotipy\u001b[39;00m\u001b[38;5;21;01m.\u001b[39;00m\u001b[38;5;21;01moauth2\u001b[39;00m \u001b[38;5;28;01mimport\u001b[39;00m SpotifyClientCredentials\n\u001b[0;32m      4\u001b[0m \u001b[38;5;66;03m#Initialize SpotiPy with user credentials\u001b[39;00m\n\u001b[1;32m----> 5\u001b[0m sp \u001b[38;5;241m=\u001b[39m spotipy\u001b[38;5;241m.\u001b[39mSpotify(auth_manager\u001b[38;5;241m=\u001b[39mSpotifyClientCredentials(client_id\u001b[38;5;241m=\u001b[39mCLIENT_ID,\n\u001b[0;32m      6\u001b[0m                                                            client_secret\u001b[38;5;241m=\u001b[39mCLIENT_SECRET))\n",
      "File \u001b[1;32mC:\\anaconda\\Lib\\site-packages\\spotipy\\oauth2.py:201\u001b[0m, in \u001b[0;36mSpotifyClientCredentials.__init__\u001b[1;34m(self, client_id, client_secret, proxies, requests_session, requests_timeout, cache_handler)\u001b[0m\n\u001b[0;32m    172\u001b[0m \u001b[38;5;250m\u001b[39m\u001b[38;5;124;03m\"\"\"\u001b[39;00m\n\u001b[0;32m    173\u001b[0m \u001b[38;5;124;03mCreates a Client Credentials Flow Manager.\u001b[39;00m\n\u001b[0;32m    174\u001b[0m \n\u001b[1;32m   (...)\u001b[0m\n\u001b[0;32m    196\u001b[0m \n\u001b[0;32m    197\u001b[0m \u001b[38;5;124;03m\"\"\"\u001b[39;00m\n\u001b[0;32m    199\u001b[0m \u001b[38;5;28msuper\u001b[39m(SpotifyClientCredentials, \u001b[38;5;28mself\u001b[39m)\u001b[38;5;241m.\u001b[39m\u001b[38;5;21m__init__\u001b[39m(requests_session)\n\u001b[1;32m--> 201\u001b[0m \u001b[38;5;28mself\u001b[39m\u001b[38;5;241m.\u001b[39mclient_id \u001b[38;5;241m=\u001b[39m client_id\n\u001b[0;32m    202\u001b[0m \u001b[38;5;28mself\u001b[39m\u001b[38;5;241m.\u001b[39mclient_secret \u001b[38;5;241m=\u001b[39m client_secret\n\u001b[0;32m    203\u001b[0m \u001b[38;5;28mself\u001b[39m\u001b[38;5;241m.\u001b[39mproxies \u001b[38;5;241m=\u001b[39m proxies\n",
      "File \u001b[1;32mC:\\anaconda\\Lib\\site-packages\\spotipy\\oauth2.py:94\u001b[0m, in \u001b[0;36mSpotifyAuthBase.client_id\u001b[1;34m(self, val)\u001b[0m\n\u001b[0;32m     92\u001b[0m \u001b[38;5;129m@client_id\u001b[39m\u001b[38;5;241m.\u001b[39msetter\n\u001b[0;32m     93\u001b[0m \u001b[38;5;28;01mdef\u001b[39;00m \u001b[38;5;21mclient_id\u001b[39m(\u001b[38;5;28mself\u001b[39m, val):\n\u001b[1;32m---> 94\u001b[0m     \u001b[38;5;28mself\u001b[39m\u001b[38;5;241m.\u001b[39m_client_id \u001b[38;5;241m=\u001b[39m _ensure_value(val, \u001b[38;5;124m\"\u001b[39m\u001b[38;5;124mclient_id\u001b[39m\u001b[38;5;124m\"\u001b[39m)\n",
      "File \u001b[1;32mC:\\anaconda\\Lib\\site-packages\\spotipy\\oauth2.py:70\u001b[0m, in \u001b[0;36m_ensure_value\u001b[1;34m(value, env_key)\u001b[0m\n\u001b[0;32m     65\u001b[0m \u001b[38;5;28;01mif\u001b[39;00m _val \u001b[38;5;129;01mis\u001b[39;00m \u001b[38;5;28;01mNone\u001b[39;00m:\n\u001b[0;32m     66\u001b[0m     msg \u001b[38;5;241m=\u001b[39m \u001b[38;5;124m\"\u001b[39m\u001b[38;5;124mNo \u001b[39m\u001b[38;5;132;01m%s\u001b[39;00m\u001b[38;5;124m. Pass it or set a \u001b[39m\u001b[38;5;132;01m%s\u001b[39;00m\u001b[38;5;124m environment variable.\u001b[39m\u001b[38;5;124m\"\u001b[39m \u001b[38;5;241m%\u001b[39m (\n\u001b[0;32m     67\u001b[0m         env_key,\n\u001b[0;32m     68\u001b[0m         env_val,\n\u001b[0;32m     69\u001b[0m     )\n\u001b[1;32m---> 70\u001b[0m     \u001b[38;5;28;01mraise\u001b[39;00m SpotifyOauthError(msg)\n\u001b[0;32m     71\u001b[0m \u001b[38;5;28;01mreturn\u001b[39;00m _val\n",
      "\u001b[1;31mSpotifyOauthError\u001b[0m: No client_id. Pass it or set a SPOTIPY_CLIENT_ID environment variable."
     ]
    }
   ],
   "source": [
    "import spotipy\n",
    "from spotipy.oauth2 import SpotifyClientCredentials\n",
    "\n",
    "#Initialize SpotiPy with user credentials\n",
    "sp = spotipy.Spotify(auth_manager=SpotifyClientCredentials(client_id=CLIENT_ID,\n",
    "                                                           client_secret=CLIENT_SECRET))\n"
   ]
  },
  {
   "cell_type": "markdown",
   "id": "8fed9628-08d7-4290-a4be-5527696b01c5",
   "metadata": {},
   "source": [
    "## Using the search method"
   ]
  },
  {
   "cell_type": "markdown",
   "id": "6575a3c6-f25a-4905-b1f3-c0efd50dcc1e",
   "metadata": {},
   "source": [
    "Now, let's use the search method by introducing a \"query\". For example, let's try searching for \"Lady Gaga\":"
   ]
  },
  {
   "cell_type": "code",
   "execution_count": null,
   "id": "7772a1e0-9692-4d04-a590-76111a272d8d",
   "metadata": {
    "tags": []
   },
   "outputs": [],
   "source": [
    "results = sp.search(q='Lady Gaga', limit=50)\n",
    "results"
   ]
  },
  {
   "cell_type": "code",
   "execution_count": null,
   "id": "edc14c95-474b-4e2a-aea3-bdfd0a205546",
   "metadata": {},
   "outputs": [],
   "source": [
    "results.keys() # We can see that we only have tracks"
   ]
  },
  {
   "cell_type": "code",
   "execution_count": null,
   "id": "ad8ef934-1dbb-4008-ac8e-f5c29823fe6a",
   "metadata": {},
   "outputs": [],
   "source": [
    "results[\"tracks\"].keys() # Let's check the values"
   ]
  },
  {
   "cell_type": "code",
   "execution_count": null,
   "id": "004b7814-4dd5-408e-b7ba-1da87f9250cb",
   "metadata": {},
   "outputs": [],
   "source": [
    "results[\"tracks\"][\"href\"] # Query we have searched "
   ]
  },
  {
   "cell_type": "code",
   "execution_count": null,
   "id": "7285cedd-fbe1-47cf-98d5-a7fdc3e5c8b8",
   "metadata": {
    "tags": []
   },
   "outputs": [],
   "source": [
    "results[\"tracks\"][\"items\"] #items (actual tracks)"
   ]
  },
  {
   "cell_type": "code",
   "execution_count": null,
   "id": "529fff56-47d3-4d78-8ff5-9530fe290d1d",
   "metadata": {},
   "outputs": [],
   "source": [
    "results[\"tracks\"][\"limit\"]#Limit we have chosen"
   ]
  },
  {
   "cell_type": "code",
   "execution_count": null,
   "id": "92c64c57-3bd2-4d42-bbd1-84a040f1e02a",
   "metadata": {},
   "outputs": [],
   "source": [
    "results[\"tracks\"][\"next\"] #link to the next page (next 50 tracks)"
   ]
  },
  {
   "cell_type": "code",
   "execution_count": null,
   "id": "f5ccdf79-5d9e-40de-adb9-2cc1e5b7c74a",
   "metadata": {
    "tags": []
   },
   "outputs": [],
   "source": [
    "results[\"tracks\"][\"offset\"] # Actual offset (starting point)"
   ]
  },
  {
   "cell_type": "code",
   "execution_count": null,
   "id": "356730c1-60a2-4ea8-bd2c-e0522bab8a4d",
   "metadata": {},
   "outputs": [],
   "source": [
    "results[\"tracks\"][\"previous\"] #Previous search"
   ]
  },
  {
   "cell_type": "code",
   "execution_count": null,
   "id": "7c44c8fd-63ea-45ba-94bd-5c5e8e1458b3",
   "metadata": {},
   "outputs": [],
   "source": [
    "results[\"tracks\"][\"total\"] # Number of matches"
   ]
  },
  {
   "cell_type": "markdown",
   "id": "7a127c64-3274-4ecc-aa0f-83ae34af4655",
   "metadata": {},
   "source": [
    "## Exploring the tracks"
   ]
  },
  {
   "cell_type": "code",
   "execution_count": null,
   "id": "6c3541a2-0fd2-41e0-9b27-60a7dc36c4cb",
   "metadata": {
    "tags": []
   },
   "outputs": [],
   "source": [
    "results[\"tracks\"][\"items\"][0] # Explore the first song"
   ]
  },
  {
   "cell_type": "code",
   "execution_count": null,
   "id": "f2c35eb2-3ea6-4329-9f29-7c062f466638",
   "metadata": {},
   "outputs": [],
   "source": [
    "results[\"tracks\"][\"items\"][0].keys() # We will focus on album, artists, id, name, popularity, type and uri"
   ]
  },
  {
   "cell_type": "code",
   "execution_count": null,
   "id": "889ca3c3-b0c8-4037-96fb-6add847f537f",
   "metadata": {},
   "outputs": [],
   "source": [
    "# Track artists\n",
    "results[\"tracks\"][\"items\"][0][\"artists\"] "
   ]
  },
  {
   "cell_type": "code",
   "execution_count": null,
   "id": "a9c6a0b2-cea7-48ff-8c51-179d15388aa2",
   "metadata": {},
   "outputs": [],
   "source": [
    "# Track artists names\n",
    "for artist in results[\"tracks\"][\"items\"][0][\"artists\"]:\n",
    "    print(artist[\"name\"])"
   ]
  },
  {
   "cell_type": "code",
   "execution_count": null,
   "id": "6a826e9c-d2e7-4537-a82c-3dc3a2b80b9f",
   "metadata": {},
   "outputs": [],
   "source": [
    "# Track ID\n",
    "results[\"tracks\"][\"items\"][0][\"id\"] "
   ]
  },
  {
   "cell_type": "code",
   "execution_count": null,
   "id": "a5bd871b-6087-4680-819c-1a1d8ba879bc",
   "metadata": {},
   "outputs": [],
   "source": [
    "# Track name\n",
    "results[\"tracks\"][\"items\"][0][\"name\"] "
   ]
  },
  {
   "cell_type": "code",
   "execution_count": null,
   "id": "812661f1-29db-452f-a719-cdfbe95ba9f6",
   "metadata": {},
   "outputs": [],
   "source": [
    "# Popularity index\n",
    "results[\"tracks\"][\"items\"][0][\"popularity\"] "
   ]
  },
  {
   "cell_type": "markdown",
   "id": "0e81c762-e6c5-424e-a4eb-12ab45dffb9f",
   "metadata": {},
   "source": [
    "Spotify songs are identified by either a \"url\", a \"uri\", or an \"id\". \n",
    "\n",
    "- The `id` is an alphanumeric code, and it's the nuclear part of the identifier.\n",
    "\n",
    "- The `uri` contains \"spotify:track\" before the id. An uri is useful because it can be searched manually in the Spotify app.\n",
    "\n",
    "- The `url` is a link to the song on the Spotify web player.\n"
   ]
  },
  {
   "cell_type": "code",
   "execution_count": null,
   "id": "8bcdccfc-dde9-4f4b-8af5-3caa335b89b5",
   "metadata": {},
   "outputs": [],
   "source": [
    "results[\"tracks\"][\"items\"][0][\"uri\"]"
   ]
  },
  {
   "cell_type": "markdown",
   "id": "71c3c9c1-4ec2-42bf-a243-b21105ae1699",
   "metadata": {},
   "source": [
    "## Exercise 1: Discovering New Music through Your Favorite Artists\n",
    "\n",
    "**Objective:** \n",
    "Uncover new music by exploring the top tracks of your favorite artists and their related artists.\n",
    "\n",
    "**Instructions:**\n",
    "\n",
    "1. **List Your Favorite Artists**:\n",
    "    - Make a list of your three favorite artists and store it in a variable named `artists`.\n",
    "    - Example: `artists = [\"Los Fabulosos Cadillacs\", \"Manu Chao\", \"Muchachito Bombo Infierno\"]`.\n",
    "\n",
    "2. **Fetch Top Tracks**:\n",
    "    - Write a function named `get_top_tracks`.\n",
    "    - This function should accept an artist's name and return the name of the first 5 top tracks by that artist.\n",
    "    - Use the function `get_top_tracks` to get the first 5 top tracks for each artist in your `artists` list and store the results in a new list named `top_tracks_list`.\n",
    "\n",
    "3. **Discover Related Artists**:\n",
    "    - Write a function named `find_related_artists`.\n",
    "    - This function should accept an artist's name and return the names of the first 5 artists related to the provided artist.\n",
    "    - Store the results in a list named `related_artists_list`.\n",
    "\n",
    "**Challenge:** \n",
    "Combine the above steps to create a playlist that includes the top tracks of your favorite artists and the top tracks of the artists related to them."
   ]
  },
  {
   "cell_type": "markdown",
   "id": "0c442378-e26f-47c8-b4f1-b4fa07089935",
   "metadata": {},
   "source": [
    "**Hint Section for 3. **Discover Related Artists**:**\n",
    "\n",
    "1. **Getting Artist ID**:\n",
    "    - Remember that every artist on Spotify has a unique identifier: their `id`. To get the related artists, you first need to fetch the ID of the given artist.\n",
    "    - Consider using the `sp.search` method to query the artist's name. The method requires a `q` parameter, which is your query (in this case, the artist's name). It also has a `limit` parameter, which specifies the number of tracks it returns. In this case, 1 track is enough, since we just want the artist ID. \n",
    "    - Each track in the results has an associated 'artists' field. This field is a list containing details about all artists involved in that track.\n",
    "   - For most tracks, especially those by a single artist, this list will contain one artist. From this artist's details, you can extract the 'id' field, which is the unique identifier for that artist on Spotify.\n",
    "\n",
    "\n",
    "3. **Fetching Related Artists**:\n",
    "    - Once you have the artist's ID, you can use another SpotiPy method to fetch related artists. Think about which SpotiPy method allows you to get related artists using an artist's ID. Here is the documentation link: https://spotipy.readthedocs.io/en/2.22.1/. \n",
    "    - This method will return a list of related artists. You'll need to extract the relevant details (artist names) from this list.\n",
    "\n",
    "4. **Iterating for Multiple Artists**:\n",
    "    - Once you have a function that returns related artists names for one artist, you can use a list comprehension to apply this function to a list of artist names.\n",
    "\n",
    "5. **Testing**:\n",
    "    - Always test your function with one artist name first. Once you're confident it works, then apply it to the entire list.\n",
    "\n",
    "Remember, the key is to break the problem down into manageable steps. Use the SpotiPy documentation as a resource to understand available methods and their return structures."
   ]
  },
  {
   "cell_type": "code",
   "execution_count": null,
   "id": "29694252-f217-454d-8881-681b2b6eeb1e",
   "metadata": {},
   "outputs": [],
   "source": [
    "import spotipy\n",
    "from spotipy.oauth2 import SpotifyClientCredentials\n",
    "client_id = \"b10c8b9c6cd04ec1acaacc7fb0f368f3\"\n",
    "client_secret = \"cf9b79a80e144196907671048d2e68fa\"\n",
    "\n",
    "sp = spotipy.Spotify(auth_manager=SpotifyClientCredentials(client_id=client_id, client_secret=client_secret))\n",
    "def get_top_tracks(artist):\n",
    "    results = sp.search(q=artist, limit=50)\n",
    "\n",
    "    if results[\"tracks\"][\"items\"]:\n",
    "\n",
    "        artist_id = results[\"tracks\"][\"items\"][0][\"artists\"][0][\"id\"]\n",
    "        country = 'DE'  \n",
    "        top_tracks = sp.artist_top_tracks(artist_id, country=country)\n",
    "\n",
    "\n",
    "        top_track_list = []\n",
    "        for track in top_tracks[\"tracks\"][:5]:\n",
    "            top_track_list.append(track[\"name\"])\n",
    "    return top_track_list\n",
    "get_top_tracks(\"TeuteRekordz\")"
   ]
  },
  {
   "cell_type": "code",
   "execution_count": null,
   "id": "b1324078",
   "metadata": {},
   "outputs": [],
   "source": [
    "import spotipy\n",
    "from spotipy.oauth2 import SpotifyClientCredentials\n",
    "client_id = \"b10c8b9c6cd04ec1acaacc7fb0f368f3\"\n",
    "client_secret = \"cf9b79a80e144196907671048d2e68fa\"\n",
    "\n",
    "sp = spotipy.Spotify(auth_manager=SpotifyClientCredentials(client_id=client_id, client_secret=client_secret))\n",
    "\n",
    "def discover_related_artists(artist):        \n",
    "    results = sp.search(q=artist, limit=50)\n",
    "    related_artists = sp.artist_related_artists(results[\"tracks\"][\"items\"][0][\"artists\"][0][\"id\"])\n",
    "    related_artists= related_artists[\"artists\"]\n",
    "    artists = []\n",
    "    for i in range(5):\n",
    "        artists.append(related_artists[i][\"name\"])\n",
    "    return artists\n",
    "discover_related_artists(\"Luvre47\")"
   ]
  },
  {
   "cell_type": "code",
   "execution_count": null,
   "id": "f6ea92f9",
   "metadata": {},
   "outputs": [],
   "source": [
    "def together(artist):\n",
    "    x = discover_related_artists(artist)\n",
    "    x.append(artist)\n",
    "    new_dict = {}\n",
    "    for i in x:\n",
    "        new_dict[i]=get_top_tracks(i)\n",
    "    return new_dict\n",
    "together(\"Luvre47\")"
   ]
  },
  {
   "cell_type": "markdown",
   "id": "94ad5fdc-22e5-4521-8aa1-c6833eb7e949",
   "metadata": {},
   "source": [
    "## Playlists\n",
    "\n",
    "The `sp.featured_playlists()` method in `spotipy` fetches a list of Spotify's featured playlists at a given moment. These are curated playlists that Spotify often highlights on the platform's homepage. The method provides a snapshot of the playlists that are being promoted or featured by Spotify at the time of the request.\n",
    "\n",
    "Once you've fetched the featured playlists, you can extract their IDs (and other details)."
   ]
  },
  {
   "cell_type": "code",
   "execution_count": null,
   "id": "25fb0cf8-c13a-41b0-b8f8-7e0700fd1e41",
   "metadata": {},
   "outputs": [],
   "source": [
    "sp.featured_playlists() # We get a playlist id of a playlist we like"
   ]
  },
  {
   "cell_type": "markdown",
   "id": "90f558f3-c638-4df4-b5a4-e24f7847d52a",
   "metadata": {},
   "source": [
    "### Getting a Playlist's Details\n",
    "To fetch details about a specific playlist, you can use the playlist method. You'll need the playlist's Spotify ID."
   ]
  },
  {
   "cell_type": "markdown",
   "id": "0eef529f-617f-4ea3-8156-07472ac8e6d5",
   "metadata": {},
   "source": [
    "In this example, we will use the following playlist id: *37i9dQZF1DXd9zR7tdziuQ*"
   ]
  },
  {
   "cell_type": "code",
   "execution_count": null,
   "id": "46d35121-9256-4cf4-81f5-118b87f7af32",
   "metadata": {},
   "outputs": [],
   "source": [
    "playlist_id = \"37i9dQZF1DXd9zR7tdziuQ\"\n",
    "playlist = sp.playlist(playlist_id)"
   ]
  },
  {
   "cell_type": "code",
   "execution_count": null,
   "id": "5260f67f-6024-4fee-8449-30904f03bf76",
   "metadata": {},
   "outputs": [],
   "source": [
    "print(playlist['name'])  # Print the playlist's name\n",
    "print(playlist['description'])  # Print the playlist's description"
   ]
  },
  {
   "cell_type": "markdown",
   "id": "13bc8631-69f0-4b98-9cc9-5baecbaea9ba",
   "metadata": {},
   "source": [
    "### Getting Tracks from a Playlist\n",
    "If you want to get the tracks from a specific playlist, you can use the playlist_tracks method."
   ]
  },
  {
   "cell_type": "code",
   "execution_count": null,
   "id": "69c78f8d-7e6a-4d15-bcbb-fc93edb82433",
   "metadata": {},
   "outputs": [],
   "source": [
    "tracks = sp.playlist_tracks(playlist_id)\n",
    "for track in tracks['items']:\n",
    "    print(track['track']['name'])  # Print each track's name"
   ]
  },
  {
   "cell_type": "markdown",
   "id": "2775714d-acc7-4555-96bd-2c541ab0855e",
   "metadata": {},
   "source": [
    "### Getting Artists from a Playlist\n",
    "\n",
    "To extract all the artists from the tracks in a playlist, you'd typically follow these steps:\n",
    "\n",
    "1. Fetch the playlist's tracks.\n",
    "2. Iterate through each track.\n",
    "3. For each track, extract the associated artists."
   ]
  },
  {
   "cell_type": "code",
   "execution_count": null,
   "id": "65c5e5c4-f186-42c6-b136-4ef02b0b01ff",
   "metadata": {},
   "outputs": [],
   "source": [
    "# List to store unique artist names\n",
    "artists_list = []\n",
    "\n",
    "for track_item in tracks['items']:\n",
    "    track = track_item['track']\n",
    "    for artist in track['artists']:\n",
    "        artist_name = artist['name']\n",
    "        if artist_name not in artists_list:  # This ensures each artist is added only once\n",
    "            artists_list.append(artist_name)\n",
    "\n",
    "print(artists_list)"
   ]
  },
  {
   "cell_type": "markdown",
   "id": "7b52207e-a4f0-4f90-9f4e-3170d7f0f3fe",
   "metadata": {},
   "source": [
    "## Exercise 2: Unraveling the World of Playlists\n",
    "\n",
    "\n",
    "1. **Featured Exploration**: \n",
    "   - Fetch the list of Spotify's current featured playlists. \n",
    "   - Extract and display the names and IDs of the top 5 featured playlists.\n",
    "   \n",
    "2. **Deep Dive**:\n",
    "   - Choose any one of the top 5 featured playlists (you can choose the one you personally find most interesting or simply pick one randomly).\n",
    "   - Fetch and display its name, description, and total track count.\n",
    "\n",
    "3. **Track-tastic**:\n",
    "   - Extract and display the names of the first 10 tracks in the chosen playlist.\n",
    "\n",
    "4. **Artistic Flair**:\n",
    "   - Create a dictionary where the keys are the names of the first 10 tracks, and the values are lists containing the names of the artists associated with each track.\n",
    "   - For example: `{\"TrackName1\": [\"Artist1\", \"Artist2\"], \"TrackName2\": [\"Artist3\"]}`\n",
    "   "
   ]
  },
  {
   "cell_type": "code",
   "execution_count": null,
   "id": "ed92d961-9646-4375-a386-ccc320a958f5",
   "metadata": {},
   "outputs": [],
   "source": [
    "playlists = sp.featured_playlists() \n",
    "for i in range(5):\n",
    "    print(f\"ID {i+1}: {playlists['playlists']['items'][i]['id']}\")\n",
    "    print(f\"Name {i+1}: {playlists['playlists']['items'][i]['name']}\")"
   ]
  },
  {
   "cell_type": "code",
   "execution_count": null,
   "id": "211e8687",
   "metadata": {},
   "outputs": [],
   "source": [
    "name = playlists['playlists']['items'][4]['name']\n",
    "description = playlists['playlists']['items'][4]['description']\n",
    "total_track_count = playlists['playlists']['items'][4]['tracks']['total']\n",
    "print(f\"\"\"Name:{name}\n",
    "Description: {description}\n",
    "Total Track Count: {total_track_count}\"\"\")"
   ]
  },
  {
   "cell_type": "code",
   "execution_count": null,
   "id": "a0e3e4cf",
   "metadata": {},
   "outputs": [],
   "source": [
    "playlist_id = playlists['playlists']['items'][4]['id']\n",
    "tracks = sp.playlist_tracks(playlist_id)\n",
    "counter = 0\n",
    "for track in tracks['items']:\n",
    "    print(track['track']['name']) \n",
    "    counter +=1\n",
    "    if counter == 10:\n",
    "        break"
   ]
  },
  {
   "cell_type": "code",
   "execution_count": null,
   "id": "3a7abfec",
   "metadata": {},
   "outputs": [],
   "source": [
    "playlist_id = playlists['playlists']['items'][4]['id']\n",
    "def playlist_func(playlist_id):\n",
    "    new_dict = {}\n",
    "    artists_list = []\n",
    "    tracks = sp.playlist_tracks(playlist_id)\n",
    "    counter = 0\n",
    "    for track in tracks['items']:\n",
    "        x = track['track']['name'] \n",
    "        track = track['track']\n",
    "        for artist in track['artists']:\n",
    "            artist_name = artist['name']\n",
    "            new_dict[x] = artist_name\n",
    "        counter +=1\n",
    "        if counter == 10:\n",
    "            break\n",
    "    return new_dict\n",
    "playlist_func(playlist_id)"
   ]
  },
  {
   "cell_type": "code",
   "execution_count": null,
   "id": "0207218d",
   "metadata": {},
   "outputs": [],
   "source": []
  }
 ],
 "metadata": {
  "kernelspec": {
   "display_name": "Python 3 (ipykernel)",
   "language": "python",
   "name": "python3"
  },
  "language_info": {
   "codemirror_mode": {
    "name": "ipython",
    "version": 3
   },
   "file_extension": ".py",
   "mimetype": "text/x-python",
   "name": "python",
   "nbconvert_exporter": "python",
   "pygments_lexer": "ipython3",
   "version": "3.11.4"
  }
 },
 "nbformat": 4,
 "nbformat_minor": 5
}
